{
  "nbformat": 4,
  "nbformat_minor": 0,
  "metadata": {
    "colab": {
      "provenance": [],
      "authorship_tag": "ABX9TyMFVeMOV7UiboieuAr6cLTx",
      "include_colab_link": true
    },
    "kernelspec": {
      "name": "python3",
      "display_name": "Python 3"
    },
    "language_info": {
      "name": "python"
    }
  },
  "cells": [
    {
      "cell_type": "markdown",
      "metadata": {
        "id": "view-in-github",
        "colab_type": "text"
      },
      "source": [
        "<a href=\"https://colab.research.google.com/github/Gauthampharish/health-insurance/blob/main/healthinsurance.ipynb\" target=\"_parent\"><img src=\"https://colab.research.google.com/assets/colab-badge.svg\" alt=\"Open In Colab\"/></a>"
      ]
    },
    {
      "cell_type": "code",
      "execution_count": 94,
      "metadata": {
        "id": "s-iq_b_b8D5V"
      },
      "outputs": [],
      "source": [
        "import pandas as pd\n",
        "import numpy as np\n",
        "import matplotlib.pyplot as plt"
      ]
    },
    {
      "cell_type": "code",
      "source": [
        "data=pd.read_csv(\"insurance.csv\")\n",
        "x=data.iloc[:,:-1].values\n",
        "y=data.iloc[:,-1].values\n"
      ],
      "metadata": {
        "id": "owvzalCt8_ru"
      },
      "execution_count": 96,
      "outputs": []
    },
    {
      "cell_type": "code",
      "source": [
        "print(x)\n",
        "print(y)"
      ],
      "metadata": {
        "colab": {
          "base_uri": "https://localhost:8080/"
        },
        "id": "VnVFwFAOAm-A",
        "outputId": "22105984-97be-444b-e612-d0eeb4133b8f"
      },
      "execution_count": 97,
      "outputs": [
        {
          "output_type": "stream",
          "name": "stdout",
          "text": [
            "[[19 'female' 27.9 0 'yes' 'southwest']\n",
            " [18 'male' 33.77 1 'no' 'southeast']\n",
            " [28 'male' 33.0 3 'no' 'southeast']\n",
            " ...\n",
            " [18 'female' 36.85 0 'no' 'southeast']\n",
            " [21 'female' 25.8 0 'no' 'southwest']\n",
            " [61 'female' 29.07 0 'yes' 'northwest']]\n",
            "[16884.92  1725.55  4449.46 ...  1629.83  2007.94 29141.36]\n"
          ]
        }
      ]
    },
    {
      "cell_type": "markdown",
      "source": [
        "encoding\n"
      ],
      "metadata": {
        "id": "vSNa9zmf-T0M"
      }
    },
    {
      "cell_type": "code",
      "source": [
        "from sklearn.compose import ColumnTransformer\n",
        "from sklearn.preprocessing import OneHotEncoder\n",
        "ct = ColumnTransformer(transformers=[('encoder', OneHotEncoder(), [1])], remainder='passthrough')\n",
        "x = np.array(ct.fit_transform(x))\n",
        "\n"
      ],
      "metadata": {
        "id": "4mWEw0Qd-Bc-"
      },
      "execution_count": 98,
      "outputs": []
    },
    {
      "cell_type": "code",
      "source": [
        "print(x)"
      ],
      "metadata": {
        "colab": {
          "base_uri": "https://localhost:8080/"
        },
        "id": "1HTZAjdA_wlm",
        "outputId": "14fede65-527e-4936-821e-2eac7a010938"
      },
      "execution_count": 99,
      "outputs": [
        {
          "output_type": "stream",
          "name": "stdout",
          "text": [
            "[[1.0 0.0 19 ... 0 'yes' 'southwest']\n",
            " [0.0 1.0 18 ... 1 'no' 'southeast']\n",
            " [0.0 1.0 28 ... 3 'no' 'southeast']\n",
            " ...\n",
            " [1.0 0.0 18 ... 0 'no' 'southeast']\n",
            " [1.0 0.0 21 ... 0 'no' 'southwest']\n",
            " [1.0 0.0 61 ... 0 'yes' 'northwest']]\n"
          ]
        }
      ]
    },
    {
      "cell_type": "code",
      "source": [
        "from sklearn.compose import ColumnTransformer\n",
        "from sklearn.preprocessing import OneHotEncoder\n",
        "ct = ColumnTransformer(transformers=[('encoder', OneHotEncoder(), [-2])], remainder='passthrough')\n",
        "x = np.array(ct.fit_transform(x))"
      ],
      "metadata": {
        "id": "053YH0d8DXq2"
      },
      "execution_count": 101,
      "outputs": []
    },
    {
      "cell_type": "code",
      "source": [
        "print(x)"
      ],
      "metadata": {
        "colab": {
          "base_uri": "https://localhost:8080/"
        },
        "id": "FSGierupDnpg",
        "outputId": "e1f019ac-2593-4857-e22d-7c51f4b15985"
      },
      "execution_count": 102,
      "outputs": [
        {
          "output_type": "stream",
          "name": "stdout",
          "text": [
            "[[1.0 0.0 0.0 ... 19 27.9 'southwest']\n",
            " [0.0 1.0 0.0 ... 18 33.77 'southeast']\n",
            " [0.0 0.0 0.0 ... 28 33.0 'southeast']\n",
            " ...\n",
            " [1.0 0.0 0.0 ... 18 36.85 'southeast']\n",
            " [1.0 0.0 0.0 ... 21 25.8 'southwest']\n",
            " [1.0 0.0 0.0 ... 61 29.07 'northwest']]\n"
          ]
        }
      ]
    },
    {
      "cell_type": "code",
      "source": [
        "from sklearn.compose import ColumnTransformer\n",
        "from sklearn.preprocessing import OneHotEncoder\n",
        "ct = ColumnTransformer(transformers=[('encoder', OneHotEncoder(), [-1])], remainder='passthrough')\n",
        "x = np.array(ct.fit_transform(x))"
      ],
      "metadata": {
        "id": "6kyIqMP_Dnct"
      },
      "execution_count": 103,
      "outputs": []
    },
    {
      "cell_type": "code",
      "source": [
        "print(x)"
      ],
      "metadata": {
        "colab": {
          "base_uri": "https://localhost:8080/"
        },
        "id": "sYgwTR9AEKYP",
        "outputId": "33cccf5e-f4fe-4014-8e46-095f531a2abb"
      },
      "execution_count": 104,
      "outputs": [
        {
          "output_type": "stream",
          "name": "stdout",
          "text": [
            "[[0.0 0.0 0.0 ... 0.0 19 27.9]\n",
            " [0.0 0.0 1.0 ... 1.0 18 33.77]\n",
            " [0.0 0.0 1.0 ... 1.0 28 33.0]\n",
            " ...\n",
            " [0.0 0.0 1.0 ... 0.0 18 36.85]\n",
            " [0.0 0.0 0.0 ... 0.0 21 25.8]\n",
            " [0.0 1.0 0.0 ... 0.0 61 29.07]]\n"
          ]
        }
      ]
    },
    {
      "cell_type": "markdown",
      "source": [
        "training and test set"
      ],
      "metadata": {
        "id": "9ot9qo2E_MHd"
      }
    },
    {
      "cell_type": "code",
      "source": [
        "from sklearn.model_selection import train_test_split\n",
        "x_train, x_test, y_train, y_test = train_test_split(x, y, test_size = 0.2, random_state = 1)"
      ],
      "metadata": {
        "id": "XpVtyP4K_PjY"
      },
      "execution_count": 106,
      "outputs": []
    },
    {
      "cell_type": "code",
      "source": [
        "print(x_train)\n",
        "print(y_train)"
      ],
      "metadata": {
        "colab": {
          "base_uri": "https://localhost:8080/"
        },
        "id": "AoVb0ysFESaP",
        "outputId": "5f292586-9e20-4bd8-b08c-210f6e16ef13"
      },
      "execution_count": 107,
      "outputs": [
        {
          "output_type": "stream",
          "name": "stdout",
          "text": [
            "[[0.0 1.0 0.0 ... 0.0 53 26.6]\n",
            " [0.0 0.0 0.0 ... 1.0 53 21.4]\n",
            " [0.0 0.0 1.0 ... 1.0 18 37.29]\n",
            " ...\n",
            " [1.0 0.0 0.0 ... 0.0 51 34.96]\n",
            " [0.0 0.0 1.0 ... 0.0 40 22.22]\n",
            " [0.0 0.0 1.0 ... 1.0 57 27.94]]\n",
            "[10355.64 10065.41  1141.45 ... 44641.2  19444.27 11554.22]\n"
          ]
        }
      ]
    },
    {
      "cell_type": "markdown",
      "source": [
        "Feature scaling"
      ],
      "metadata": {
        "id": "ezmr6Ur0Ecko"
      }
    },
    {
      "cell_type": "code",
      "source": [
        "from sklearn.preprocessing import StandardScaler\n",
        "sc = StandardScaler()\n",
        "x_train = sc.fit_transform(x_train)\n",
        "x_test=sc.fit_transform(x_test)\n",
        "\n",
        "\n",
        "\n"
      ],
      "metadata": {
        "id": "AFhzZ_zFEb02"
      },
      "execution_count": 88,
      "outputs": []
    },
    {
      "cell_type": "code",
      "source": [],
      "metadata": {
        "id": "-2NZXWBIPBpq"
      },
      "execution_count": null,
      "outputs": []
    },
    {
      "cell_type": "markdown",
      "source": [
        "multiple reg\n"
      ],
      "metadata": {
        "id": "M2JTVCn-F-0C"
      }
    },
    {
      "cell_type": "code",
      "source": [
        "from sklearn.linear_model import LinearRegression\n",
        "regressor = LinearRegression()\n",
        "regressor.fit(x_train, y_train)"
      ],
      "metadata": {
        "colab": {
          "base_uri": "https://localhost:8080/",
          "height": 74
        },
        "id": "MgkFuXzmGAc3",
        "outputId": "1683abbb-9f4e-4fb5-c81e-ff6799faf0fd"
      },
      "execution_count": 108,
      "outputs": [
        {
          "output_type": "execute_result",
          "data": {
            "text/plain": [
              "LinearRegression()"
            ],
            "text/html": [
              "<style>#sk-container-id-4 {color: black;background-color: white;}#sk-container-id-4 pre{padding: 0;}#sk-container-id-4 div.sk-toggleable {background-color: white;}#sk-container-id-4 label.sk-toggleable__label {cursor: pointer;display: block;width: 100%;margin-bottom: 0;padding: 0.3em;box-sizing: border-box;text-align: center;}#sk-container-id-4 label.sk-toggleable__label-arrow:before {content: \"▸\";float: left;margin-right: 0.25em;color: #696969;}#sk-container-id-4 label.sk-toggleable__label-arrow:hover:before {color: black;}#sk-container-id-4 div.sk-estimator:hover label.sk-toggleable__label-arrow:before {color: black;}#sk-container-id-4 div.sk-toggleable__content {max-height: 0;max-width: 0;overflow: hidden;text-align: left;background-color: #f0f8ff;}#sk-container-id-4 div.sk-toggleable__content pre {margin: 0.2em;color: black;border-radius: 0.25em;background-color: #f0f8ff;}#sk-container-id-4 input.sk-toggleable__control:checked~div.sk-toggleable__content {max-height: 200px;max-width: 100%;overflow: auto;}#sk-container-id-4 input.sk-toggleable__control:checked~label.sk-toggleable__label-arrow:before {content: \"▾\";}#sk-container-id-4 div.sk-estimator input.sk-toggleable__control:checked~label.sk-toggleable__label {background-color: #d4ebff;}#sk-container-id-4 div.sk-label input.sk-toggleable__control:checked~label.sk-toggleable__label {background-color: #d4ebff;}#sk-container-id-4 input.sk-hidden--visually {border: 0;clip: rect(1px 1px 1px 1px);clip: rect(1px, 1px, 1px, 1px);height: 1px;margin: -1px;overflow: hidden;padding: 0;position: absolute;width: 1px;}#sk-container-id-4 div.sk-estimator {font-family: monospace;background-color: #f0f8ff;border: 1px dotted black;border-radius: 0.25em;box-sizing: border-box;margin-bottom: 0.5em;}#sk-container-id-4 div.sk-estimator:hover {background-color: #d4ebff;}#sk-container-id-4 div.sk-parallel-item::after {content: \"\";width: 100%;border-bottom: 1px solid gray;flex-grow: 1;}#sk-container-id-4 div.sk-label:hover label.sk-toggleable__label {background-color: #d4ebff;}#sk-container-id-4 div.sk-serial::before {content: \"\";position: absolute;border-left: 1px solid gray;box-sizing: border-box;top: 0;bottom: 0;left: 50%;z-index: 0;}#sk-container-id-4 div.sk-serial {display: flex;flex-direction: column;align-items: center;background-color: white;padding-right: 0.2em;padding-left: 0.2em;position: relative;}#sk-container-id-4 div.sk-item {position: relative;z-index: 1;}#sk-container-id-4 div.sk-parallel {display: flex;align-items: stretch;justify-content: center;background-color: white;position: relative;}#sk-container-id-4 div.sk-item::before, #sk-container-id-4 div.sk-parallel-item::before {content: \"\";position: absolute;border-left: 1px solid gray;box-sizing: border-box;top: 0;bottom: 0;left: 50%;z-index: -1;}#sk-container-id-4 div.sk-parallel-item {display: flex;flex-direction: column;z-index: 1;position: relative;background-color: white;}#sk-container-id-4 div.sk-parallel-item:first-child::after {align-self: flex-end;width: 50%;}#sk-container-id-4 div.sk-parallel-item:last-child::after {align-self: flex-start;width: 50%;}#sk-container-id-4 div.sk-parallel-item:only-child::after {width: 0;}#sk-container-id-4 div.sk-dashed-wrapped {border: 1px dashed gray;margin: 0 0.4em 0.5em 0.4em;box-sizing: border-box;padding-bottom: 0.4em;background-color: white;}#sk-container-id-4 div.sk-label label {font-family: monospace;font-weight: bold;display: inline-block;line-height: 1.2em;}#sk-container-id-4 div.sk-label-container {text-align: center;}#sk-container-id-4 div.sk-container {/* jupyter's `normalize.less` sets `[hidden] { display: none; }` but bootstrap.min.css set `[hidden] { display: none !important; }` so we also need the `!important` here to be able to override the default hidden behavior on the sphinx rendered scikit-learn.org. See: https://github.com/scikit-learn/scikit-learn/issues/21755 */display: inline-block !important;position: relative;}#sk-container-id-4 div.sk-text-repr-fallback {display: none;}</style><div id=\"sk-container-id-4\" class=\"sk-top-container\"><div class=\"sk-text-repr-fallback\"><pre>LinearRegression()</pre><b>In a Jupyter environment, please rerun this cell to show the HTML representation or trust the notebook. <br />On GitHub, the HTML representation is unable to render, please try loading this page with nbviewer.org.</b></div><div class=\"sk-container\" hidden><div class=\"sk-item\"><div class=\"sk-estimator sk-toggleable\"><input class=\"sk-toggleable__control sk-hidden--visually\" id=\"sk-estimator-id-4\" type=\"checkbox\" checked><label for=\"sk-estimator-id-4\" class=\"sk-toggleable__label sk-toggleable__label-arrow\">LinearRegression</label><div class=\"sk-toggleable__content\"><pre>LinearRegression()</pre></div></div></div></div></div>"
            ]
          },
          "metadata": {},
          "execution_count": 108
        }
      ]
    },
    {
      "cell_type": "code",
      "source": [
        "y_pred = regressor.predict(x_test)\n",
        "np.set_printoptions(precision=2)\n",
        "print(np.concatenate((y_pred.reshape(len(y_pred),1), y_test.reshape(len(y_test),1)),1))\n",
        "print(y_pred)\n",
        "print(y_test)"
      ],
      "metadata": {
        "colab": {
          "base_uri": "https://localhost:8080/"
        },
        "id": "eq7F9_aEIXlN",
        "outputId": "035f73bc-ff3f-4cd6-d427-61165a5a3578"
      },
      "execution_count": 109,
      "outputs": [
        {
          "output_type": "stream",
          "name": "stdout",
          "text": [
            "[[ 4410.01  1646.43]\n",
            " [12938.43 11353.23]\n",
            " [12656.55  8798.59]\n",
            " [12925.47 10381.48]\n",
            " [  232.59  2103.08]\n",
            " [31721.7  38746.36]\n",
            " [13430.97  9304.7 ]\n",
            " [12380.22 11658.12]\n",
            " [ 3835.19  3070.81]\n",
            " [29522.25 19539.24]\n",
            " [11082.4  12629.9 ]\n",
            " [18043.59 11538.42]\n",
            " [ 9192.91  6338.08]\n",
            " [ 8038.34  7050.64]\n",
            " [ 3177.7   1137.47]\n",
            " [10967.91  8968.33]\n",
            " [ 3912.37 21984.47]\n",
            " [ 6588.    6414.18]\n",
            " [14698.11 28287.9 ]\n",
            " [14515.78 13462.52]\n",
            " [12601.66  9722.77]\n",
            " [32573.97 40932.43]\n",
            " [ 9119.71  8026.67]\n",
            " [ 9064.88  8444.47]\n",
            " [ 3060.08  2203.47]\n",
            " [ 7834.71  6664.69]\n",
            " [ 9194.47  8606.22]\n",
            " [10806.06  8283.68]\n",
            " [ 8200.33  5375.04]\n",
            " [ 4426.74  3645.09]\n",
            " [13831.22 11674.13]\n",
            " [ 6328.96 11737.85]\n",
            " [34267.58 24873.38]\n",
            " [27029.35 33750.29]\n",
            " [32988.48 24180.93]\n",
            " [ 9591.8   9863.47]\n",
            " [30468.26 36837.47]\n",
            " [27996.   17942.11]\n",
            " [15220.41 11856.41]\n",
            " [33551.75 39725.52]\n",
            " [ 6803.79  4349.46]\n",
            " [14110.04 11743.93]\n",
            " [10362.84 19749.38]\n",
            " [14783.88 12347.17]\n",
            " [ 4703.17  4931.65]\n",
            " [13174.27 30260.  ]\n",
            " [ 4006.53 27724.29]\n",
            " [28653.59 34672.15]\n",
            " [ 7304.16  9644.25]\n",
            " [15626.88 14394.4 ]\n",
            " [13358.76 12557.61]\n",
            " [12852.56 11881.36]\n",
            " [ 1894.08  2352.97]\n",
            " [ 8527.81  9101.8 ]\n",
            " [25745.76 17178.68]\n",
            " [10167.29  3994.18]\n",
            " [33848.84 40941.29]\n",
            " [14608.62 12644.59]\n",
            " [ 3727.84 22395.74]\n",
            " [ 5927.9   1149.4 ]\n",
            " [ 6607.56  3366.67]\n",
            " [15015.81 13143.34]\n",
            " [26609.51 18328.24]\n",
            " [ 3305.49  2690.11]\n",
            " [15853.96 12741.17]\n",
            " [10889.81  8765.25]\n",
            " [10763.75 10264.44]\n",
            " [10162.41 22192.44]\n",
            " [ 1177.02  2709.24]\n",
            " [25309.54 14571.89]\n",
            " [37172.   60021.4 ]\n",
            " [32780.16 58571.07]\n",
            " [ 2039.68  1743.21]\n",
            " [10983.1  12479.71]\n",
            " [13741.65 13352.1 ]\n",
            " [34634.04 41034.22]\n",
            " [ 2854.16  2789.06]\n",
            " [ 3936.39  2867.12]\n",
            " [10435.01 11070.53]\n",
            " [10930.13 10493.95]\n",
            " [ -398.22  3167.46]\n",
            " [14565.29 12269.69]\n",
            " [10012.93 10942.13]\n",
            " [ 3220.04  1977.82]\n",
            " [33159.4  39125.33]\n",
            " [33587.23 42112.24]\n",
            " [ 6852.35  7045.5 ]\n",
            " [38200.32 46200.99]\n",
            " [13361.42 10370.91]\n",
            " [10799.8   7749.16]\n",
            " [30148.57 20234.85]\n",
            " [33631.09 24106.91]\n",
            " [14397.86 13919.82]\n",
            " [10484.04  8871.15]\n",
            " [  268.68  1628.47]\n",
            " [10624.14  9487.64]\n",
            " [ 9335.41  9861.02]\n",
            " [15475.88 12265.51]\n",
            " [15018.26 12235.84]\n",
            " [ 6581.29  6402.29]\n",
            " [13730.15 11356.66]\n",
            " [26080.9  15817.99]\n",
            " [27777.97 18259.22]\n",
            " [27469.02 34779.61]\n",
            " [35397.6  27037.91]\n",
            " [27142.87 18033.97]\n",
            " [  693.42  1737.38]\n",
            " [ 8958.95  7441.05]\n",
            " [ 4363.31  2219.45]\n",
            " [12517.99 11286.54]\n",
            " [ 5394.61  4415.16]\n",
            " [ 5300.36  3981.98]\n",
            " [ 1090.86  1632.04]\n",
            " [18426.96 15555.19]\n",
            " [ 2929.54 12609.89]\n",
            " [ 1737.27  1253.94]\n",
            " [10925.74  6666.24]\n",
            " [12654.59 14254.61]\n",
            " [13212.51 19496.72]\n",
            " [ 3749.26  2261.57]\n",
            " [ 8982.64  8932.08]\n",
            " [15258.26 10736.87]\n",
            " [ 7409.53  5976.83]\n",
            " [ 6654.22  7147.1 ]\n",
            " [37180.59 43813.87]\n",
            " [11820.4   9563.03]\n",
            " [11890.36 13047.33]\n",
            " [28936.67 19362.  ]\n",
            " [36555.86 43896.38]\n",
            " [12147.26  7740.34]\n",
            " [28152.99 36307.8 ]\n",
            " [ -732.34  1832.09]\n",
            " [ 8756.3   7144.86]\n",
            " [31279.19 38282.75]\n",
            " [ 8353.07 24603.05]\n",
            " [ -620.78  1731.68]\n",
            " [ 1212.66  1632.56]\n",
            " [ 4650.06  1631.82]\n",
            " [ 7653.6   9991.04]\n",
            " [12647.24  7935.29]\n",
            " [14933.63 14043.48]\n",
            " [ 8333.5   5934.38]\n",
            " [29422.37 18972.49]\n",
            " [15781.68 14313.85]\n",
            " [15197.   13607.37]\n",
            " [11173.76 10594.5 ]\n",
            " [ 1586.36  1719.44]\n",
            " [ 9707.16  7954.52]\n",
            " [ 3455.09  1727.54]\n",
            " [ 6661.45  6686.43]\n",
            " [11082.12  7152.67]\n",
            " [ 5989.81  3877.3 ]\n",
            " [15069.97 33471.97]\n",
            " [13370.74 11879.1 ]\n",
            " [12753.82  7804.16]\n",
            " [ 7096.34  5969.72]\n",
            " [12069.64  9964.06]\n",
            " [10608.    9957.72]\n",
            " [ 9950.22  9447.38]\n",
            " [ 4596.68  1826.84]\n",
            " [ 5709.18  3704.35]\n",
            " [40902.47 49577.66]\n",
            " [12756.11 11946.63]\n",
            " [ 3991.16  2904.09]\n",
            " [ 8045.74  6128.8 ]\n",
            " [ 4727.67  1534.3 ]\n",
            " [31877.16 38709.18]\n",
            " [10961.21 10436.1 ]\n",
            " [11044.03 11073.18]\n",
            " [ 6944.39  5469.01]\n",
            " [ 6948.58  5152.13]\n",
            " [ 6727.49  3556.92]\n",
            " [33147.36 22412.65]\n",
            " [34941.95 25678.78]\n",
            " [ 2206.27  3353.47]\n",
            " [ 7338.89  6555.07]\n",
            " [ 4883.69  2416.95]\n",
            " [15176.08 14590.63]\n",
            " [ 1530.08  3732.63]\n",
            " [11924.75  5846.92]\n",
            " [13509.23 12731.  ]\n",
            " [11569.54 13616.36]\n",
            " [10594.35  8988.16]\n",
            " [12877.98  7650.77]\n",
            " [ 2055.63  3594.17]\n",
            " [27584.54 18246.5 ]\n",
            " [ 2403.33  2155.68]\n",
            " [14421.77  8569.86]\n",
            " [ 6353.99  7526.71]\n",
            " [ 9789.44  9222.4 ]\n",
            " [15479.66 14119.62]\n",
            " [39356.81 47269.85]\n",
            " [ 2173.88  3260.2 ]\n",
            " [ 1146.57  2709.11]\n",
            " [ 5671.05  6933.24]\n",
            " [ 7638.05  9264.8 ]\n",
            " [ 9261.57  7243.81]\n",
            " [ 4526.5   2134.9 ]\n",
            " [12033.75 11520.1 ]\n",
            " [ 8628.02  8233.1 ]\n",
            " [ 9073.79  6289.75]\n",
            " [11611.29  7371.77]\n",
            " [ 9985.16 12094.48]\n",
            " [ 9757.06 23563.02]\n",
            " [ 8569.2   6457.84]\n",
            " [  947.87  1615.77]\n",
            " [ 9809.24  6600.21]\n",
            " [ 6996.27  7046.72]\n",
            " [ 6657.11  1984.45]\n",
            " [11782.92 11455.28]\n",
            " [ 5456.76  4137.52]\n",
            " [32553.94 23244.79]\n",
            " [ 8424.67 17128.43]\n",
            " [ 6810.41  3987.93]\n",
            " [ 8441.18  4670.64]\n",
            " [39464.69 47291.06]\n",
            " [12005.64 10796.35]\n",
            " [27935.36 35595.59]\n",
            " [ 2930.89  1136.4 ]\n",
            " [33712.04 38998.55]\n",
            " [ 3728.51  2459.72]\n",
            " [31650.41 21195.82]\n",
            " [14321.68 12268.63]\n",
            " [ 2354.92  4827.9 ]\n",
            " [ 1943.48  1635.73]\n",
            " [ 1328.87  1969.61]\n",
            " [ 6145.95  4357.04]\n",
            " [ 4514.44 10795.94]\n",
            " [25623.83 17081.08]\n",
            " [15805.67 13887.97]\n",
            " [ 5820.74  3579.83]\n",
            " [12685.64 14001.29]\n",
            " [39451.31 47462.89]\n",
            " [ 4430.29  6753.04]\n",
            " [13220.67 12096.65]\n",
            " [11413.09 10214.64]\n",
            " [28271.21 17361.77]\n",
            " [ 2826.56  1639.56]\n",
            " [13063.02  8342.91]\n",
            " [ 5411.15  4074.45]\n",
            " [14888.66  8083.92]\n",
            " [ 5812.18  2026.97]\n",
            " [16608.55 31620.  ]\n",
            " [ 3950.53  1981.58]\n",
            " [12268.6  20781.49]\n",
            " [34319.31 24869.84]\n",
            " [11177.26 18806.15]\n",
            " [10290.39  8551.35]\n",
            " [ 4548.01 18218.16]\n",
            " [16785.26 14210.54]\n",
            " [14062.9  10959.69]\n",
            " [ 5172.17  4441.21]\n",
            " [11231.95 12142.58]\n",
            " [12145.58 10560.49]\n",
            " [ 4673.33  2897.32]\n",
            " [ 7198.43  2755.02]\n",
            " [27694.49 34617.84]\n",
            " [31905.6  22331.57]\n",
            " [ -431.69  1625.43]\n",
            " [39974.69 48517.56]\n",
            " [ 9910.69  8219.2 ]\n",
            " [ 7422.87  6940.91]\n",
            " [10355.71  8240.59]\n",
            " [34056.33 40103.89]\n",
            " [35973.23 42983.46]\n",
            " [37149.63 44202.65]\n",
            " [ 4983.27  2136.88]\n",
            " [ 6168.64  5227.99]]\n",
            "[ 4410.01 12938.43 12656.55 12925.47   232.59 31721.7  13430.97 12380.22\n",
            "  3835.19 29522.25 11082.4  18043.59  9192.91  8038.34  3177.7  10967.91\n",
            "  3912.37  6588.   14698.11 14515.78 12601.66 32573.97  9119.71  9064.88\n",
            "  3060.08  7834.71  9194.47 10806.06  8200.33  4426.74 13831.22  6328.96\n",
            " 34267.58 27029.35 32988.48  9591.8  30468.26 27996.   15220.41 33551.75\n",
            "  6803.79 14110.04 10362.84 14783.88  4703.17 13174.27  4006.53 28653.59\n",
            "  7304.16 15626.88 13358.76 12852.56  1894.08  8527.81 25745.76 10167.29\n",
            " 33848.84 14608.62  3727.84  5927.9   6607.56 15015.81 26609.51  3305.49\n",
            " 15853.96 10889.81 10763.75 10162.41  1177.02 25309.54 37172.   32780.16\n",
            "  2039.68 10983.1  13741.65 34634.04  2854.16  3936.39 10435.01 10930.13\n",
            "  -398.22 14565.29 10012.93  3220.04 33159.4  33587.23  6852.35 38200.32\n",
            " 13361.42 10799.8  30148.57 33631.09 14397.86 10484.04   268.68 10624.14\n",
            "  9335.41 15475.88 15018.26  6581.29 13730.15 26080.9  27777.97 27469.02\n",
            " 35397.6  27142.87   693.42  8958.95  4363.31 12517.99  5394.61  5300.36\n",
            "  1090.86 18426.96  2929.54  1737.27 10925.74 12654.59 13212.51  3749.26\n",
            "  8982.64 15258.26  7409.53  6654.22 37180.59 11820.4  11890.36 28936.67\n",
            " 36555.86 12147.26 28152.99  -732.34  8756.3  31279.19  8353.07  -620.78\n",
            "  1212.66  4650.06  7653.6  12647.24 14933.63  8333.5  29422.37 15781.68\n",
            " 15197.   11173.76  1586.36  9707.16  3455.09  6661.45 11082.12  5989.81\n",
            " 15069.97 13370.74 12753.82  7096.34 12069.64 10608.    9950.22  4596.68\n",
            "  5709.18 40902.47 12756.11  3991.16  8045.74  4727.67 31877.16 10961.21\n",
            " 11044.03  6944.39  6948.58  6727.49 33147.36 34941.95  2206.27  7338.89\n",
            "  4883.69 15176.08  1530.08 11924.75 13509.23 11569.54 10594.35 12877.98\n",
            "  2055.63 27584.54  2403.33 14421.77  6353.99  9789.44 15479.66 39356.81\n",
            "  2173.88  1146.57  5671.05  7638.05  9261.57  4526.5  12033.75  8628.02\n",
            "  9073.79 11611.29  9985.16  9757.06  8569.2    947.87  9809.24  6996.27\n",
            "  6657.11 11782.92  5456.76 32553.94  8424.67  6810.41  8441.18 39464.69\n",
            " 12005.64 27935.36  2930.89 33712.04  3728.51 31650.41 14321.68  2354.92\n",
            "  1943.48  1328.87  6145.95  4514.44 25623.83 15805.67  5820.74 12685.64\n",
            " 39451.31  4430.29 13220.67 11413.09 28271.21  2826.56 13063.02  5411.15\n",
            " 14888.66  5812.18 16608.55  3950.53 12268.6  34319.31 11177.26 10290.39\n",
            "  4548.01 16785.26 14062.9   5172.17 11231.95 12145.58  4673.33  7198.43\n",
            " 27694.49 31905.6   -431.69 39974.69  9910.69  7422.87 10355.71 34056.33\n",
            " 35973.23 37149.63  4983.27  6168.64]\n",
            "[ 1646.43 11353.23  8798.59 10381.48  2103.08 38746.36  9304.7  11658.12\n",
            "  3070.81 19539.24 12629.9  11538.42  6338.08  7050.64  1137.47  8968.33\n",
            " 21984.47  6414.18 28287.9  13462.52  9722.77 40932.43  8026.67  8444.47\n",
            "  2203.47  6664.69  8606.22  8283.68  5375.04  3645.09 11674.13 11737.85\n",
            " 24873.38 33750.29 24180.93  9863.47 36837.47 17942.11 11856.41 39725.52\n",
            "  4349.46 11743.93 19749.38 12347.17  4931.65 30260.   27724.29 34672.15\n",
            "  9644.25 14394.4  12557.61 11881.36  2352.97  9101.8  17178.68  3994.18\n",
            " 40941.29 12644.59 22395.74  1149.4   3366.67 13143.34 18328.24  2690.11\n",
            " 12741.17  8765.25 10264.44 22192.44  2709.24 14571.89 60021.4  58571.07\n",
            "  1743.21 12479.71 13352.1  41034.22  2789.06  2867.12 11070.53 10493.95\n",
            "  3167.46 12269.69 10942.13  1977.82 39125.33 42112.24  7045.5  46200.99\n",
            " 10370.91  7749.16 20234.85 24106.91 13919.82  8871.15  1628.47  9487.64\n",
            "  9861.02 12265.51 12235.84  6402.29 11356.66 15817.99 18259.22 34779.61\n",
            " 27037.91 18033.97  1737.38  7441.05  2219.45 11286.54  4415.16  3981.98\n",
            "  1632.04 15555.19 12609.89  1253.94  6666.24 14254.61 19496.72  2261.57\n",
            "  8932.08 10736.87  5976.83  7147.1  43813.87  9563.03 13047.33 19362.\n",
            " 43896.38  7740.34 36307.8   1832.09  7144.86 38282.75 24603.05  1731.68\n",
            "  1632.56  1631.82  9991.04  7935.29 14043.48  5934.38 18972.49 14313.85\n",
            " 13607.37 10594.5   1719.44  7954.52  1727.54  6686.43  7152.67  3877.3\n",
            " 33471.97 11879.1   7804.16  5969.72  9964.06  9957.72  9447.38  1826.84\n",
            "  3704.35 49577.66 11946.63  2904.09  6128.8   1534.3  38709.18 10436.1\n",
            " 11073.18  5469.01  5152.13  3556.92 22412.65 25678.78  3353.47  6555.07\n",
            "  2416.95 14590.63  3732.63  5846.92 12731.   13616.36  8988.16  7650.77\n",
            "  3594.17 18246.5   2155.68  8569.86  7526.71  9222.4  14119.62 47269.85\n",
            "  3260.2   2709.11  6933.24  9264.8   7243.81  2134.9  11520.1   8233.1\n",
            "  6289.75  7371.77 12094.48 23563.02  6457.84  1615.77  6600.21  7046.72\n",
            "  1984.45 11455.28  4137.52 23244.79 17128.43  3987.93  4670.64 47291.06\n",
            " 10796.35 35595.59  1136.4  38998.55  2459.72 21195.82 12268.63  4827.9\n",
            "  1635.73  1969.61  4357.04 10795.94 17081.08 13887.97  3579.83 14001.29\n",
            " 47462.89  6753.04 12096.65 10214.64 17361.77  1639.56  8342.91  4074.45\n",
            "  8083.92  2026.97 31620.    1981.58 20781.49 24869.84 18806.15  8551.35\n",
            " 18218.16 14210.54 10959.69  4441.21 12142.58 10560.49  2897.32  2755.02\n",
            " 34617.84 22331.57  1625.43 48517.56  8219.2   6940.91  8240.59 40103.89\n",
            " 42983.46 44202.65  2136.88  5227.99]\n"
          ]
        }
      ]
    },
    {
      "cell_type": "code",
      "source": [
        "import sklearn.metrics as sm\n",
        "print(\"Mean absolute error =\", round(sm.mean_absolute_error(y_test, y_pred), 2)) \n",
        "print(\"Mean squared error =\", round(sm.mean_squared_error(y_test, y_pred), 2)) \n",
        "print(\"Median absolute error =\", round(sm.median_absolute_error(y_test, y_pred), 2)) \n",
        "print(\"Explain variance score =\", round(sm.explained_variance_score(y_test, y_pred), 2)) \n",
        "print(\"R2 score =\", round(sm.r2_score(y_test, y_pred), 2))"
      ],
      "metadata": {
        "colab": {
          "base_uri": "https://localhost:8080/"
        },
        "id": "wTsSeFDKN9ek",
        "outputId": "0bcc150f-46bc-4e7f-9a1e-18dda160b4bc"
      },
      "execution_count": 111,
      "outputs": [
        {
          "output_type": "stream",
          "name": "stdout",
          "text": [
            "Mean absolute error = 4054.15\n",
            "Mean squared error = 35349546.2\n",
            "Median absolute error = 2249.14\n",
            "Explain variance score = 0.76\n",
            "R2 score = 0.76\n"
          ]
        }
      ]
    },
    {
      "cell_type": "markdown",
      "source": [],
      "metadata": {
        "id": "ZbnyeTFn_rmq"
      }
    }
  ]
}